{
 "cells": [
  {
   "cell_type": "markdown",
   "metadata": {},
   "source": [
    "# GEE python\n",
    "\n",
    "GEE 也有python接口，可以和command shell，web application和jupyter交互。和JS相比，python API可以在脚本间分享代码，允许序列调用GEE，有很多绘图选项，比如matplotlib，seaborn，plotly，bokeh，pygal，ggplot和altair等，可以常用python库一起使用。最直接的调用GEE的方式可以查看GEE原文档 [Python installation](https://developers.google.com/earth-engine/python_install)，这里主要参考[GEEMAP](https://github.com/giswqs/geemap)，记录如何使用吴秋生老师开发的geemap，教程在这里：[mdpi-gee.pdf](https://spatial.utk.edu/ppt/mdpi-gee.pdf)，还有[bilibili geemap](https://space.bilibili.com/527404442/channel/detail?cid=132674)，以此简单记录下关于GEE python的使用。\n",
    "\n",
    "## geemap Installation\n",
    "\n",
    "geemap 可以看成是gee python接口的高级封装，所以自然要先安装gee python接口所需要的东西。\n",
    "\n",
    "有两种方式可以快速上手，一种是在云端运行，一种是本地。云端运行需要配置colab，这部分可以参考 [Earth Engine Python API & Colab](https://docs.google.com/presentation/d/e/2PACX-1vTFAWIEBg3aVhY5dImnTzTDmbgnu9A4pEOW6OUdpoCLvxD1ot3UI0qbcD90oXsR0CJdWQz-kAUE_2tb/pub?start=false&loop=false&delayms=3000)。然后在云端配置GEE环境，并验证。colab每次重新加载进来之后都需要重新配置环境。所以目前个人觉得不是特别方便，可能配合使用google云服务比较好，这里还是以本地为主了。\n",
    "\n",
    "最基础的GEE python接口需要的环境一般有：\n",
    "\n",
    "- python\n",
    "- 包管理器（conda/pip）\n",
    "- GEE Python API\n",
    "- Python数据科学计算库\n",
    "\n",
    "这些在本repo的environment.yml文件中都已经包含了，也已经包含geemap了，所以在运行本repo前的安装中都已经安装过了，即在项目根目录下打开终端，执行以下语句即可：\n",
    "\n",
    "```Shell\n",
    "conda env create -f environment.yml\n",
    "```\n",
    "\n",
    "安装过了就不必再执行了。"
   ]
  },
  {
   "cell_type": "code",
   "execution_count": 1,
   "metadata": {},
   "outputs": [],
   "source": [
    "import ee"
   ]
  },
  {
   "cell_type": "markdown",
   "metadata": {},
   "source": [
    "导入ee没有报错，说明已经安装了gee的python接口了。\n",
    "\n",
    "然后需要获取credentials才可以使用API，这是一个授权本地代表谷歌账号访问GEE的凭证。\n",
    "\n",
    "原始方法是在终端使用下面命令：\n",
    "\n",
    "``` Shell\n",
    "earthengine authenticate\n",
    "```\n",
    "\n",
    "按照提示操作，会得到一个激活码，复制这个码，然后切回终端，粘贴这个激活码。点击回车，等待验证即可。不过这里因为使用了geemap，所以直接执行下面的语句，会调用授权过程相关的代码，能起到同样的作用，如下所示。\n",
    "\n",
    "因为我不是第一次授权，所以下面直接就跳出来GEE的地图界面了。如果你是第一次授权可以参考吴秋生老师的原视频：https://www.bilibili.com/video/BV1fi4y147rL"
   ]
  },
  {
   "cell_type": "code",
   "execution_count": 2,
   "metadata": {},
   "outputs": [],
   "source": [
    "import geemap"
   ]
  },
  {
   "cell_type": "code",
   "execution_count": 4,
   "metadata": {},
   "outputs": [
    {
     "data": {
      "application/vnd.jupyter.widget-view+json": {
       "model_id": "4d47f6cc174e420c87241786d2517a03",
       "version_major": 2,
       "version_minor": 0
      },
      "text/plain": [
       "Map(center=[40, -100], controls=(WidgetControl(options=['position', 'transparent_bg'], widget=HBox(children=(T…"
      ]
     },
     "metadata": {},
     "output_type": "display_data"
    }
   ],
   "source": [
    "m = geemap.Map()\n",
    "m"
   ]
  },
  {
   "cell_type": "markdown",
   "metadata": {},
   "source": [
    "上面的地图是可交互的，可以试着在地图范围内滚动鼠标轮，就能实现地图缩放。总之，这样就安装好了 gee python接口和 geemap。"
   ]
  },
  {
   "cell_type": "markdown",
   "metadata": {},
   "source": [
    "## geemap 基本使用介绍\n",
    "\n",
    "开始geemap之前，值得一提的是原gee 本地命令是有命令行命令的，这个在官方文档中有详细的介绍，简单说一下常用的几个命令，剩余的在使用过程中如果又需要可以随时查看相关官方文档的介绍。官方文档地址：https://link.zhihu.com/?target=https%3A//developers.google.com/earth-engine/command_line  \n",
    "\n",
    "命令概览可以通过下面的命令行代码实现："
   ]
  },
  {
   "cell_type": "code",
   "execution_count": 5,
   "metadata": {},
   "outputs": [
    {
     "name": "stdout",
     "output_type": "stream",
     "text": [
      "usage: earthengine [-h] [--ee_config EE_CONFIG]\n",
      "                   [--service_account_file SERVICE_ACCOUNT_FILE]\n",
      "                   [--project PROJECT_OVERRIDE]\n",
      "                   {authenticate,acl,asset,cp,create,ls,licenses,du,mv,model,rm,set_project,task,unset_project,upload,upload_manifest,upload_table_manifest}\n",
      "                   ...\n",
      "\n",
      "Earth Engine Command Line Interface.\n",
      "\n",
      "optional arguments:\n",
      "  -h, --help            show this help message and exit\n",
      "  --ee_config EE_CONFIG\n",
      "                        Path to the earthengine configuration file. Defaults\n",
      "                        to \"~/.config\\earthengine\\credentials\".\n",
      "  --service_account_file SERVICE_ACCOUNT_FILE\n",
      "                        Path to a service account credentialsfile. Overrides\n",
      "                        any ee_config if specified.\n",
      "  --project PROJECT_OVERRIDE\n",
      "                        Specifies a Google Cloud Platform Project id to\n",
      "                        override the call.\n",
      "\n",
      "Commands:\n",
      "  {authenticate,acl,asset,cp,create,ls,licenses,du,mv,model,rm,set_project,task,unset_project,upload,upload_manifest,upload_table_manifest}\n",
      "    authenticate        Prompts the user to authorize access to Earth Engine\n",
      "                        via OAuth2.\n",
      "    acl                 Prints or updates the access control list of the\n",
      "                        specified asset.\n",
      "    asset               Prints or updates metadata associated with an Earth\n",
      "                        Engine asset.\n",
      "    cp                  Creates a new Earth Engine asset as a copy of another\n",
      "                        asset.\n",
      "    create              Creates assets and folders.\n",
      "    ls                  Prints the contents of a folder or collection.\n",
      "    licenses            Prints the name and license of all third party\n",
      "                        dependencies.\n",
      "    du                  Prints the size and names of all items in a given\n",
      "                        folder or collection.\n",
      "    mv                  Moves or renames an Earth Engine asset.\n",
      "    model               TensorFlow model related commands.\n",
      "    rm                  Deletes the specified assets.\n",
      "    set_project         Sets the default user project to be used for all API\n",
      "                        calls.\n",
      "    task                Prints information about or manages long-running\n",
      "                        tasks.\n",
      "    unset_project       UnSets the default user project to be used for all API\n",
      "                        calls.\n",
      "    upload              Uploads assets to Earth Engine.\n",
      "    upload_manifest     Uploads an image to Earth Engine using the given\n",
      "                        manifest file.\n",
      "    upload_table_manifest\n",
      "                        Uploads a table to Earth Engine using the given\n",
      "                        manifest file.\n"
     ]
    }
   ],
   "source": [
    "!earthengine --help"
   ]
  },
  {
   "cell_type": "markdown",
   "metadata": {},
   "source": [
    "几个常用工具：\n",
    "\n",
    "- authenticate:认证本地账户。\n",
    "- acl: \n",
    "    - get 查询资源的信息\n",
    "    - set 将资源设置为公共或者私有\n",
    "- asset: \n",
    "    - info 查看资源的属性\n",
    "    - set 为资源设置特殊属性字段\n",
    "- cp: 复制一份新的资源\n",
    "- mv: 重命名资源\n",
    "\n",
    "下面进入正题。\n",
    "\n",
    "## 底图展示\n",
    "\n",
    "首先是底图的展示。geemap集合了许多basemap，这里就不一一记录了，直接展示默认的GEE底图"
   ]
  },
  {
   "cell_type": "code",
   "execution_count": 6,
   "metadata": {},
   "outputs": [
    {
     "data": {
      "application/vnd.jupyter.widget-view+json": {
       "model_id": "9c2e04a8fbdf419ea2c616838f661fab",
       "version_major": 2,
       "version_minor": 0
      },
      "text/plain": [
       "Map(center=[40, -100], controls=(WidgetControl(options=['position', 'transparent_bg'], widget=HBox(children=(T…"
      ]
     },
     "metadata": {},
     "output_type": "display_data"
    }
   ],
   "source": [
    "import geemap\n",
    "\n",
    "Map = geemap.Map(center=[40, -100], zoom=4)\n",
    "Map"
   ]
  },
  {
   "cell_type": "markdown",
   "metadata": {},
   "source": [
    "## 导入图层\n",
    "\n",
    "可以尝试导入不同的数据，可以使用上面的交互地图左上角的数据搜索功能，如下图所示\n",
    "\n",
    "![](pictures/QQ截图20210122110809.png)\n",
    "\n",
    "也可以和JS的用法一样，直接导入，如下代码："
   ]
  },
  {
   "cell_type": "code",
   "execution_count": 7,
   "metadata": {},
   "outputs": [],
   "source": [
    "import ee\n",
    "# Add Earth Engine dataset\n",
    "dem = ee.Image('USGS/SRTMGL1_003')\n",
    "landcover = ee.Image(\"ESA/GLOBCOVER_L4_200901_200912_V2_3\").select('landcover')\n",
    "landsat7 = ee.Image('LE7_TOA_5YEAR/1999_2003').select(['B1', 'B2', 'B3', 'B4', 'B5', 'B7'])\n",
    "states = ee.FeatureCollection(\"TIGER/2018/States\")\n",
    "\n",
    "# Set visualization parameters.\n",
    "vis_params = {\n",
    "  'min': 0,\n",
    "  'max': 4000,\n",
    "  'palette': ['006633', 'E5FFCC', '662A00', 'D8D8D8', 'F5F5F5']}\n",
    "\n",
    "# Add Earth Eninge layers to Map\n",
    "Map.addLayer(dem, vis_params, 'SRTM DEM', True, 0.5)\n",
    "Map.addLayer(landcover, {}, 'Land cover')\n",
    "Map.addLayer(landsat7, {'bands': ['B4', 'B3', 'B2'], 'min': 20, 'max': 200}, 'Landsat 7')\n",
    "Map.addLayer(states, {}, \"US States\")"
   ]
  },
  {
   "cell_type": "markdown",
   "metadata": {},
   "source": [
    "找到图层栏，如下图所示：\n",
    "\n",
    "![](pictures/QQ截图20210122111050.png)\n",
    "\n",
    "可以随意切换底图。"
   ]
  },
  {
   "cell_type": "markdown",
   "metadata": {},
   "source": [
    "这样基本的功能就了解了，接下来就边根据例子边介绍GEE的使用方式。"
   ]
  }
 ],
 "metadata": {
  "kernelspec": {
   "display_name": "Python 3",
   "language": "python",
   "name": "python3"
  },
  "language_info": {
   "codemirror_mode": {
    "name": "ipython",
    "version": 3
   },
   "file_extension": ".py",
   "mimetype": "text/x-python",
   "name": "python",
   "nbconvert_exporter": "python",
   "pygments_lexer": "ipython3",
   "version": "3.8.10"
  }
 },
 "nbformat": 4,
 "nbformat_minor": 4
}
