{
 "cells": [
  {
   "cell_type": "markdown",
   "id": "b4f9e1c9-9c9c-4011-9e92-51e2a65463c4",
   "metadata": {},
   "source": [
    "# xarray-spatial 介绍\n",
    "\n",
    "本文主要参考[Xarray-spatial documentation](https://xarray-spatial.org/) 重点了解 Xarray-spatial的基本使用方法, 以快速地在本地执行GIS计算."
   ]
  }
 ],
 "metadata": {
  "kernelspec": {
   "display_name": "Python 3",
   "language": "python",
   "name": "python3"
  },
  "language_info": {
   "codemirror_mode": {
    "name": "ipython",
    "version": 3
   },
   "file_extension": ".py",
   "mimetype": "text/x-python",
   "name": "python",
   "nbconvert_exporter": "python",
   "pygments_lexer": "ipython3",
   "version": "3.8.10"
  }
 },
 "nbformat": 4,
 "nbformat_minor": 5
}
